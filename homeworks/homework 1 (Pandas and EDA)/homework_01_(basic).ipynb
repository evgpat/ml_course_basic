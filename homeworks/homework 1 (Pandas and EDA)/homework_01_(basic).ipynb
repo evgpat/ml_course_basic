{
  "cells": [
    {
      "cell_type": "markdown",
      "metadata": {
        "_uuid": "21c25e4f8bb31570029fd6b069131a5d00f84cf1",
        "id": "3-tVAicKr1C7"
      },
      "source": [
        "# Домашнее задание 1"
      ]
    },
    {
      "cell_type": "markdown",
      "metadata": {
        "id": "lV9pvgZJTYGj"
      },
      "source": [
        "Задание выполнил(а):\n",
        "\n",
        "    (впишите свои фамилию и имя)"
      ]
    },
    {
      "cell_type": "markdown",
      "source": [
        "Все задания ниже имеют равный вес."
      ],
      "metadata": {
        "id": "BQQyylzKr4qC"
      }
    },
    {
      "cell_type": "markdown",
      "source": [
        "## Описание данных"
      ],
      "metadata": {
        "id": "5HLoyae8xQ1l"
      }
    },
    {
      "cell_type": "markdown",
      "metadata": {
        "id": "vpSnDrAVr1C9"
      },
      "source": [
        "В папке Data находится информация о студентах. Всего 10 групп студентов.  \n",
        "Файлы делятся на две категории:\n",
        "*   `Students_info_i` - информация о студентах из группы `i`\n",
        "*   `Students_marks_i` - оценки студентов из группы `i` за экзамены\n",
        "\n",
        "Предположим, что в дальнейшем мы будем хотеть предсказывать оценку по математике для каждого студента на основе остальных имеющихся характеристик.\n",
        "\n"
      ]
    },
    {
      "cell_type": "markdown",
      "metadata": {
        "id": "3przp22Ir1C9"
      },
      "source": [
        "Одно из важных достоинств pandas $-$ это удобные методы реляционного взаимодействия с данными, аналогичные, например, возможностям SQL для слияния и конкатенации таблиц: merge, join, concat. Наличие готовых методов позволяет не реализовывать самостоятельно поэлементную обработку данных и оперировать сразу целыми таблицами данных.\n",
        "\n",
        "Подробно об этих методах можно посмотреть тут:\n",
        "\n",
        " https://www.kaggle.com/residentmario/renaming-and-combining#Combining"
      ]
    },
    {
      "cell_type": "markdown",
      "source": [
        "## Практика"
      ],
      "metadata": {
        "id": "mcbGj3CoxYqm"
      }
    },
    {
      "cell_type": "code",
      "source": [
        "# импортируем библиотеки\n",
        "import pandas as pd\n",
        "import matplotlib.pyplot as plt\n",
        "import seaborn as sns\n",
        "import numpy as np"
      ],
      "metadata": {
        "id": "OOiCLymw1F5B"
      },
      "execution_count": null,
      "outputs": []
    },
    {
      "cell_type": "code",
      "source": [
        "%%capture\n",
        "# загружаем данные\n",
        "!wget https://github.com/evgpat/datasets/raw/main/students.zip"
      ],
      "metadata": {
        "id": "McFB9a_B9bAd"
      },
      "execution_count": null,
      "outputs": []
    },
    {
      "cell_type": "code",
      "source": [
        "# проверяем загрузку (наличие файла students.zip)\n",
        "!ls -lah"
      ],
      "metadata": {
        "id": "ef78rqK6-U_j"
      },
      "execution_count": null,
      "outputs": []
    },
    {
      "cell_type": "code",
      "source": [
        "# разархивируем данные\n",
        "!unzip students.zip"
      ],
      "metadata": {
        "id": "xECazP09-iId"
      },
      "execution_count": null,
      "outputs": []
    },
    {
      "cell_type": "code",
      "source": [
        "# смотрим что получилось\n",
        "!ls -lah students"
      ],
      "metadata": {
        "id": "m0n50cN0-72n"
      },
      "execution_count": null,
      "outputs": []
    },
    {
      "cell_type": "markdown",
      "metadata": {
        "id": "3kQnuewfr1C9"
      },
      "source": [
        "### Задание 1"
      ]
    },
    {
      "cell_type": "markdown",
      "source": [
        "1.1. Соберите всю информацию о студентах в одну таблицу data. В получившейся таблице должна быть информация и оценки всех студентов из всех групп. Напечатайте несколько строк таблицы для демонстрации результата"
      ],
      "metadata": {
        "id": "0QHaDoSi_OZd"
      }
    },
    {
      "cell_type": "code",
      "execution_count": null,
      "metadata": {
        "id": "pjzfuMd6r1C9"
      },
      "outputs": [],
      "source": [
        "# ваш код здесь\n",
        "..."
      ]
    },
    {
      "cell_type": "markdown",
      "source": [
        "1.2. Напишите, зачем нужно сделать EDA. Предположите, какую информацию и в каком виде, исходя из имеющего датасета и с учетом дальнейшей задачи предсказания оценки по математике, необходимо посмотреть и с какой целью."
      ],
      "metadata": {
        "id": "OVnGkS57QryP"
      }
    },
    {
      "cell_type": "markdown",
      "source": [
        "**Ваш ответ здесь\n",
        "...**"
      ],
      "metadata": {
        "id": "AGhdUxvKSBOj"
      }
    },
    {
      "cell_type": "markdown",
      "metadata": {
        "_uuid": "8524af4cbd2f7b7810e8a3095a74c9fe1df7eafa",
        "id": "YaAQdtmer1C-"
      },
      "source": [
        "### Задание 2"
      ]
    },
    {
      "cell_type": "markdown",
      "source": [
        "Удалите столбец index у полученной таблицы. Напечатайте первые 10 строк таблицы"
      ],
      "metadata": {
        "id": "mrtj9C2l_TVv"
      }
    },
    {
      "cell_type": "code",
      "execution_count": null,
      "metadata": {
        "_uuid": "fe62eee87b9b94ab923f57b55eaf0554612aa9e9",
        "id": "QbZjjfk2r1C-"
      },
      "outputs": [],
      "source": [
        "# ваш код здесь\n",
        "...\n"
      ]
    },
    {
      "cell_type": "markdown",
      "metadata": {
        "_uuid": "fe8e3d58d29ca25dbbcf001392377643e6ff9a36",
        "id": "i4C0EUhTr1C-"
      },
      "source": [
        "### Задание 3"
      ]
    },
    {
      "cell_type": "markdown",
      "source": [
        "3.1. Выведите на экран размеры полученной таблицы"
      ],
      "metadata": {
        "id": "iSS1wJLqKoBm"
      }
    },
    {
      "cell_type": "code",
      "execution_count": null,
      "metadata": {
        "_uuid": "16281cd7b4e941ebed8ca2e1b42f62f55d838684",
        "id": "iQQlxhAJr1C-"
      },
      "outputs": [],
      "source": [
        "# ваш код здесь\n",
        "..."
      ]
    },
    {
      "cell_type": "markdown",
      "source": [
        "3.2. Выведите на экран статистические характеристики числовых столбцов таблицы (минимум, максимум, среднее значение, стандартное отклонение)"
      ],
      "metadata": {
        "id": "XKhfHhnuKq4m"
      }
    },
    {
      "cell_type": "code",
      "execution_count": null,
      "metadata": {
        "_uuid": "e3d4bb80d2c4251fe517c24fcf08c5ff2d67b8aa",
        "id": "twppg5yZr1C-"
      },
      "outputs": [],
      "source": [
        "# ваш код здесь\n",
        "..."
      ]
    },
    {
      "cell_type": "markdown",
      "source": [
        "3.3. Выведите на экран информацию об остальных признаках"
      ],
      "metadata": {
        "id": "fIyPfZCWL5YL"
      }
    },
    {
      "cell_type": "code",
      "source": [
        "# ваш код здесь\n",
        "..."
      ],
      "metadata": {
        "id": "sXAOcqo9NWip"
      },
      "execution_count": null,
      "outputs": []
    },
    {
      "cell_type": "markdown",
      "source": [
        "3.4. Проверьте, есть ли в таблице пропущенные значения"
      ],
      "metadata": {
        "id": "utIlUSPeKvnJ"
      }
    },
    {
      "cell_type": "code",
      "execution_count": null,
      "metadata": {
        "_uuid": "4eac3f8f83d07c6e58ad1576fe0e773f37034a2f",
        "id": "TXlZ2JKZr1C_"
      },
      "outputs": [],
      "source": [
        "# ваш код здесь\n",
        "..."
      ]
    },
    {
      "cell_type": "markdown",
      "source": [
        "### Задание 4"
      ],
      "metadata": {
        "id": "ae8zzdBNkuYj"
      }
    },
    {
      "cell_type": "markdown",
      "source": [
        "Постройте диаграммы распределений числовых признаков"
      ],
      "metadata": {
        "id": "VsVMZjTIkxm-"
      }
    },
    {
      "cell_type": "code",
      "source": [
        "# ваш код здесь\n",
        "..."
      ],
      "metadata": {
        "id": "YVsf4lB3lfGI"
      },
      "execution_count": null,
      "outputs": []
    },
    {
      "cell_type": "markdown",
      "source": [
        "### Задание 5"
      ],
      "metadata": {
        "id": "D-0iBFXOmW-j"
      }
    },
    {
      "cell_type": "markdown",
      "source": [
        "5.1. Выведете матрицу корреляций для числовых признаков\n",
        "\n",
        "\n"
      ],
      "metadata": {
        "id": "whEgBiCRqGJe"
      }
    },
    {
      "cell_type": "code",
      "source": [
        "# ваш код здесь\n",
        "..."
      ],
      "metadata": {
        "id": "YJtvG7Hi3PF4"
      },
      "execution_count": null,
      "outputs": []
    },
    {
      "cell_type": "markdown",
      "source": [
        "5.2. Прокомментируйте текстом результат"
      ],
      "metadata": {
        "id": "bHKx85F4ql4D"
      }
    },
    {
      "cell_type": "markdown",
      "source": [
        "**Ваш ответ...**"
      ],
      "metadata": {
        "id": "N78p2b8aqplL"
      }
    },
    {
      "cell_type": "markdown",
      "metadata": {
        "id": "KOXkgrCsr1C_"
      },
      "source": [
        "### Задание 6"
      ]
    },
    {
      "cell_type": "markdown",
      "source": [
        "7.1. Выведите на экран средние баллы студентов по каждому предмету (`math`, `reading`, `writing`)"
      ],
      "metadata": {
        "id": "Ua3muRwsKyWZ"
      }
    },
    {
      "cell_type": "code",
      "execution_count": null,
      "metadata": {
        "id": "h2pGYA-Wr1C_"
      },
      "outputs": [],
      "source": [
        "# ваш код здесь\n",
        "..."
      ]
    },
    {
      "cell_type": "markdown",
      "source": [
        "7.2. Постройте столбчатые диаграммы среднего балла по письму в зависимости от:\n",
        "\n",
        "- пола (gender),\n",
        "\n",
        "- расовой/этнической группы (race/ethnicity),\n",
        "\n",
        "- уровня образования родителей (parental level of education),\n",
        "\n",
        "- типа обеда (lunch),\n",
        "\n",
        "- прохождения подготовительного курса (test preparation course)."
      ],
      "metadata": {
        "id": "0kHgE2SpmhrQ"
      }
    },
    {
      "cell_type": "code",
      "source": [
        "# ваш код здесь\n",
        "..."
      ],
      "metadata": {
        "id": "YtUwcIMTmocJ"
      },
      "execution_count": null,
      "outputs": []
    },
    {
      "cell_type": "markdown",
      "metadata": {
        "id": "fczoCZJTr1DA"
      },
      "source": [
        "### Задание 7"
      ]
    },
    {
      "cell_type": "markdown",
      "source": [
        "Как зависят оценки от того, проходил ли студент курс для подготовки к сдаче экзамена (test preparation course)?\n",
        "\n",
        "Выведите на экран для каждого предмета в отдельности средний балл студентов, проходивших курс для подготовки к экзамену и не проходивших курс."
      ],
      "metadata": {
        "id": "18pWMoCbK6Bm"
      }
    },
    {
      "cell_type": "code",
      "execution_count": null,
      "metadata": {
        "id": "ZhWK8xVCr1DA"
      },
      "outputs": [],
      "source": [
        "# ваш код здесь\n",
        "..."
      ]
    },
    {
      "cell_type": "markdown",
      "metadata": {
        "id": "8vG57VtAr1DA"
      },
      "source": [
        "### Задание 8"
      ]
    },
    {
      "cell_type": "markdown",
      "source": [
        "Переименуйте колонку `parental level of education` в `education`, а `test preparation course` в `test preparation` с помощью метода pandas [`rename`](https://pandas.pydata.org/pandas-docs/stable/reference/api/pandas.DataFrame.rename.html)"
      ],
      "metadata": {
        "id": "qdsFzJmVMy6w"
      }
    },
    {
      "cell_type": "code",
      "execution_count": null,
      "metadata": {
        "id": "K7p_wEhzr1DB"
      },
      "outputs": [],
      "source": [
        "# ваш код здесь\n",
        "..."
      ]
    },
    {
      "cell_type": "markdown",
      "source": [
        "### Задание 9"
      ],
      "metadata": {
        "id": "_Ft8TrDbM_ud"
      }
    },
    {
      "cell_type": "markdown",
      "metadata": {
        "id": "6NGpIYJzr1DB"
      },
      "source": [
        "**Зафиксируем минимальный балл для сдачи экзамена**"
      ]
    },
    {
      "cell_type": "code",
      "execution_count": null,
      "metadata": {
        "id": "kxHBHeU6r1DB"
      },
      "outputs": [],
      "source": [
        "passmark = 50"
      ]
    },
    {
      "cell_type": "markdown",
      "metadata": {
        "id": "xTjgdXGMr1DB"
      },
      "source": [
        "**Ответьте на вопросы**\n",
        "* Какая доля студентов сдала экзамен по математике (passmark > 50)?\n",
        "* Какая доля студентов, проходивших курс подготовки к экзамену, сдала экзамен по математике?\n",
        "* Какая доля женщин, не проходивших курс подготовки к экзамену, не сдала экзамен по математике?"
      ]
    },
    {
      "cell_type": "code",
      "execution_count": null,
      "metadata": {
        "id": "5v8uB_2er1DB"
      },
      "outputs": [],
      "source": [
        "# ваш код здесь\n",
        "..."
      ]
    },
    {
      "cell_type": "code",
      "source": [
        "# ваш код здесь\n",
        "..."
      ],
      "metadata": {
        "id": "Mwm_tNJ7NGvx"
      },
      "execution_count": null,
      "outputs": []
    },
    {
      "cell_type": "code",
      "source": [
        "# ваш код здесь\n",
        "..."
      ],
      "metadata": {
        "id": "XYmblIG_NIQg"
      },
      "execution_count": null,
      "outputs": []
    },
    {
      "cell_type": "markdown",
      "metadata": {
        "id": "LysYnT_pr1DB"
      },
      "source": [
        "### Задание 10"
      ]
    },
    {
      "cell_type": "markdown",
      "source": [
        "С помощью `groupby` выполните задания ниже.\n",
        "* Для каждой этнической группы выведите средний балл за экзамен по чтению\n",
        "* Для каждого уровня образования выведите минимальный балл за экзамен по письму"
      ],
      "metadata": {
        "id": "izOBIWgqMY_S"
      }
    },
    {
      "cell_type": "code",
      "execution_count": null,
      "metadata": {
        "id": "TvC6MauJr1DB"
      },
      "outputs": [],
      "source": [
        "# ваш код здесь\n",
        "..."
      ]
    },
    {
      "cell_type": "code",
      "source": [
        "# ваш код здесь\n",
        "..."
      ],
      "metadata": {
        "id": "ZKo39lexMeh0"
      },
      "execution_count": null,
      "outputs": []
    },
    {
      "cell_type": "markdown",
      "metadata": {
        "_uuid": "3e832cb427c4314582d1953a41b8c78db75e30e3",
        "id": "K2dzmojsr1DC"
      },
      "source": [
        "### Задание 11"
      ]
    },
    {
      "cell_type": "markdown",
      "source": [
        "Сколько студентов успешно сдали экзамен по математике?\n",
        "\n",
        "Создайте новый столбец в таблице `data` под названием `Math_PassStatus` и запишите в него F, если студент не сдал экзамен по математике (балл за экзамен < passmark), и P иначе.\n",
        "\n",
        "Посчитайте количество студентов, сдавших и не сдавших экзамен по математике.\n"
      ],
      "metadata": {
        "id": "G5EgmLmALpsb"
      }
    },
    {
      "cell_type": "code",
      "execution_count": null,
      "metadata": {
        "_uuid": "f43cddb72cc96b30df84bc0de83a4d9170904340",
        "id": "6CWO_CTMr1DC"
      },
      "outputs": [],
      "source": [
        "# ваш код здесь\n",
        "..."
      ]
    },
    {
      "cell_type": "markdown",
      "metadata": {
        "_uuid": "3af9c6cb4cbfff66d4ae09509f10b8b6ce33075d",
        "id": "oezdmPXGr1DC"
      },
      "source": [
        "### Задание 12"
      ]
    },
    {
      "cell_type": "markdown",
      "source": [
        "Переведем баллы в оценки\n",
        "\n",
        "**Система перевода баллов в оценки**\n",
        "*   [90;100] = A\n",
        "*   [80;90) = B\n",
        "*   [70;80) = C\n",
        "*   [60;70) = D\n",
        "*   [50;60) = E\n",
        "*   [0;50) = F (Fail)\n",
        "\n",
        "Создайте вспомогательную функцию, которая будет по среднему баллу за три экзамена выставлять оценку студенту по данным выше критериям.\n",
        "\n",
        "Создайте столбец `Grade` и запишите в него оценку каждого студента.\n",
        "\n",
        "Выведите количество студентов, получивших каждую из оценок."
      ],
      "metadata": {
        "id": "hLJJR1GqLDc0"
      }
    },
    {
      "cell_type": "code",
      "execution_count": null,
      "metadata": {
        "_uuid": "04707c5be4237020b906d2ac705a0db3d620506f",
        "id": "tLSML7yrr1DD"
      },
      "outputs": [],
      "source": [
        "def GetGrade(average_mark):\n",
        "    # ваш код здесь\n",
        "    ...\n",
        "\n",
        "# ваш код здесь\n",
        "..."
      ]
    }
  ],
  "metadata": {
    "kernelspec": {
      "display_name": "Python 3 (ipykernel)",
      "language": "python",
      "name": "python3"
    },
    "language_info": {
      "codemirror_mode": {
        "name": "ipython",
        "version": 3
      },
      "file_extension": ".py",
      "mimetype": "text/x-python",
      "name": "python",
      "nbconvert_exporter": "python",
      "pygments_lexer": "ipython3",
      "version": "3.9.12"
    },
    "colab": {
      "provenance": [],
      "toc_visible": true
    }
  },
  "nbformat": 4,
  "nbformat_minor": 0
}